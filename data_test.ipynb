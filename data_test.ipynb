{
 "cells": [
  {
   "cell_type": "code",
   "execution_count": 1,
   "id": "8a772527",
   "metadata": {},
   "outputs": [],
   "source": [
    "import os\n",
    "import numpy as np\n",
    "from humor.datasets.amass_discrete_dataset import AmassDiscreteDataset\n",
    "from torch.utils.data import Dataset, DataLoader\n",
    "\n",
    "%load_ext autoreload\n",
    "%autoreload 2"
   ]
  },
  {
   "cell_type": "code",
   "execution_count": 2,
   "id": "f02d6de4",
   "metadata": {},
   "outputs": [
    {
     "name": "stdout",
     "output_type": "stream",
     "text": [
      "Data roots:  ../datasets/AMASS/amass_processed\n"
     ]
    }
   ],
   "source": [
    "# configs\n",
    "data_path  = r\"../datasets/AMASS/amass_processed\"\n",
    "data_roots = data_path \n",
    "split_by = 'sequence'\n",
    "sample_num_frames = 10\n",
    "data_steps_in = 1\n",
    "data_steps_out = 1\n",
    "data_rot_rep = 'mat'\n",
    "data_return_config  = \"smpl+joints+contacts\"\n",
    "\n",
    "print(\"Data roots: \", data_roots)"
   ]
  },
  {
   "cell_type": "code",
   "execution_count": 7,
   "id": "6e7d7dbb",
   "metadata": {},
   "outputs": [
    {
     "name": "stdout",
     "output_type": "stream",
     "text": [
      "Loading data from../datasets/AMASS/amass_processed\n",
      "Logger must be initialized before logging!\n",
      "This split contains 286 sequences (that meet the duration criteria).\n",
      "Logger must be initialized before logging!\n",
      "The dataset contains 18411 sub-sequences in total.\n",
      "Logger must be initialized before logging!\n"
     ]
    }
   ],
   "source": [
    "dataset = AmassDiscreteDataset(\n",
    "    split='train',\n",
    "    data_paths=data_roots,\n",
    "    split_by=split_by,\n",
    "    sample_num_frames=sample_num_frames,\n",
    "    step_frames_in=data_steps_in,\n",
    "    step_frames_out=data_steps_out,\n",
    "    data_rot_rep=data_rot_rep,\n",
    "    data_return_config=data_return_config,\n",
    ")\n",
    "loader = DataLoader(dataset, \n",
    "                        batch_size=1,\n",
    "                        shuffle=True,\n",
    "                        num_workers=0,\n",
    "                        pin_memory=True,\n",
    "                        drop_last=False,\n",
    "                        worker_init_fn=lambda _: np.random.seed()) # get around numpy RNG seed bug"
   ]
  },
  {
   "cell_type": "code",
   "execution_count": 8,
   "id": "038ce6b4",
   "metadata": {},
   "outputs": [
    {
     "name": "stdout",
     "output_type": "stream",
     "text": [
      "data_in[pose_body]: torch.Size([1, 10, 1, 189])\n",
      "data_in[root_orient]: torch.Size([1, 10, 1, 9])\n",
      "data_in[root_orient_vel]: torch.Size([1, 10, 1, 3])\n",
      "data_in[trans]: torch.Size([1, 10, 1, 3])\n",
      "data_in[trans_vel]: torch.Size([1, 10, 1, 3])\n",
      "data_in[joints]: torch.Size([1, 10, 1, 22, 3])\n",
      "data_in[joints_vel]: torch.Size([1, 10, 1, 22, 3])\n",
      "data_in[contacts]: torch.Size([1, 10, 1, 9])\n"
     ]
    }
   ],
   "source": [
    "for i, (data_in, data_out, meta) in enumerate(loader):\n",
    "    for k, v in data_in.items():\n",
    "        print(f\"data_in[{k}]: {v.shape}\")\n",
    "    break"
   ]
  }
 ],
 "metadata": {
  "kernelspec": {
   "display_name": "CS280",
   "language": "python",
   "name": "python3"
  },
  "language_info": {
   "codemirror_mode": {
    "name": "ipython",
    "version": 3
   },
   "file_extension": ".py",
   "mimetype": "text/x-python",
   "name": "python",
   "nbconvert_exporter": "python",
   "pygments_lexer": "ipython3",
   "version": "3.11.11"
  }
 },
 "nbformat": 4,
 "nbformat_minor": 5
}
